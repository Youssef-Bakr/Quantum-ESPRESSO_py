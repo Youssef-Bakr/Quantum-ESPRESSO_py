{
 "cells": [
  {
   "cell_type": "code",
   "execution_count": 1,
   "metadata": {},
   "outputs": [],
   "source": [
    "import numpy as np\n",
    "import qepy"
   ]
  },
  {
   "cell_type": "code",
   "execution_count": 2,
   "metadata": {},
   "outputs": [],
   "source": [
    "try:\n",
    "    from mpi4py import MPI\n",
    "    comm=MPI.COMM_WORLD.py2f()\n",
    "except:\n",
    "    # Only can run once\n",
    "    comm=None"
   ]
  },
  {
   "cell_type": "code",
   "execution_count": 3,
   "metadata": {},
   "outputs": [],
   "source": [
    "qepy.qepy_mod.qepy_set_stdout('qepy.out')"
   ]
  },
  {
   "cell_type": "code",
   "execution_count": 4,
   "metadata": {},
   "outputs": [],
   "source": [
    "qepy.qepy_pwscf('qe_in.in',comm)\n",
    "embed = qepy.qepy_common.embed_base()\n",
    "qepy.control_flags.set_niter(1)"
   ]
  },
  {
   "cell_type": "code",
   "execution_count": 5,
   "metadata": {},
   "outputs": [],
   "source": [
    "# set external potential (optional)\n",
    "nr = np.zeros(3, dtype = 'int32')\n",
    "qepy.qepy_mod.qepy_get_grid(nr)\n",
    "extpot = np.zeros(np.prod(nr), order = 'F')\n",
    "qepy.qepy_mod.qepy_set_extpot(embed, extpot)"
   ]
  },
  {
   "cell_type": "code",
   "execution_count": 6,
   "metadata": {},
   "outputs": [],
   "source": [
    "for i in range(60):\n",
    "    embed.mix_coef = -1.0\n",
    "    qepy.qepy_electrons_scf(0, 0, embed)\n",
    "    embed.mix_coef = 0.7\n",
    "    qepy.qepy_electrons_scf(0, 0, embed)\n",
    "    embed.initial = False\n",
    "    if qepy.control_flags.get_conv_elec() : break\n",
    "embed.finish = True\n",
    "qepy.qepy_electrons_scf(0, 0, embed)"
   ]
  },
  {
   "cell_type": "code",
   "execution_count": 7,
   "metadata": {},
   "outputs": [
    {
     "data": {
      "text/plain": [
       "2.5688306913268367e-09"
      ]
     },
     "execution_count": 7,
     "metadata": {},
     "output_type": "execute_result"
    }
   ],
   "source": [
    "qepy.control_flags.get_scf_error()"
   ]
  },
  {
   "cell_type": "code",
   "execution_count": 8,
   "metadata": {},
   "outputs": [
    {
     "data": {
      "text/plain": [
       "27"
      ]
     },
     "execution_count": 8,
     "metadata": {},
     "output_type": "execute_result"
    }
   ],
   "source": [
    "qepy.control_flags.get_n_scf_steps()"
   ]
  },
  {
   "cell_type": "code",
   "execution_count": 9,
   "metadata": {},
   "outputs": [
    {
     "data": {
      "text/plain": [
       "-552.9347756723879"
      ]
     },
     "execution_count": 9,
     "metadata": {},
     "output_type": "execute_result"
    }
   ],
   "source": [
    "qepy.qepy_calc_energies(embed)\n",
    "embed.etotal"
   ]
  },
  {
   "cell_type": "code",
   "execution_count": 10,
   "metadata": {},
   "outputs": [
    {
     "data": {
      "text/plain": [
       "array([[-8.31978912e-03, -1.00033905e-07, -2.22142815e-07],\n",
       "       [ 7.83904143e-03, -1.17581097e-07,  5.01145931e-08],\n",
       "       [ 7.81127729e-03,  2.29708527e-07, -2.75915894e-08],\n",
       "       [-7.33052960e-03, -1.20935257e-08,  1.99619811e-07]])"
      ]
     },
     "execution_count": 10,
     "metadata": {},
     "output_type": "execute_result"
    }
   ],
   "source": [
    "qepy.qepy_forces(0)\n",
    "qepy.force_mod.get_array_force().T"
   ]
  },
  {
   "cell_type": "code",
   "execution_count": 11,
   "metadata": {},
   "outputs": [],
   "source": [
    "qepy.punch('all')\n",
    "qepy.qepy_stop_run(0, what = 'no')"
   ]
  },
  {
   "cell_type": "code",
   "execution_count": 12,
   "metadata": {},
   "outputs": [
    {
     "name": "stdout",
     "output_type": "stream",
     "text": [
      "\n",
      "Program PWSCF v.6.5 starts on 29Sep2021 at 21: 4: 3\n",
      "\n",
      "This program is part of the open-source Quantum ESPRESSO suite\n",
      "for quantum simulation of materials; please cite\n",
      "\"P. Giannozzi et al., J. Phys.:Condens. Matter 21 395502 (2009);\n",
      "\"P. Giannozzi et al., J. Phys.:Condens. Matter 29 465901 (2017);\n",
      "URL http://www.quantum-espresso.org\",\n",
      "in publications or presentations arising from this work. More details at\n",
      "http://www.quantum-espresso.org/quote\n",
      "\n",
      "Parallel version (MPI), running on     1 processors\n",
      "\n",
      "MPI processes distributed on     1 nodes\n",
      "Reading input from qe_in.in\n",
      "Warning: card &IONS ignored\n",
      "Warning: card / ignored\n",
      "Warning: card &CELL ignored\n",
      "Warning: card / ignored\n",
      "\n",
      "Current dimensions of program PWSCF are:\n",
      "Max number of different atomic species (ntypx) = 10\n",
      "Max number of k-points (npk) =  40000\n",
      "Max angular momentum in pseudopotentials (lmaxx) =  3\n",
      "\n",
      "Subspace diagonalization in iterative solution of the eigenvalue problem:\n",
      "a serial algorithm will be used\n",
      "\n",
      "\n",
      "G-vector sticks info\n",
      "--------------------\n",
      "sticks:   dense  smooth     PW     G-vecs:    dense   smooth      PW\n",
      "Sum         749     749    185                15419    15419    1935\n",
      "\n",
      "\n",
      "\n",
      "bravais-lattice index     =            0\n",
      "lattice parameter (alat)  =       7.6534  a.u.\n",
      "unit-cell volume          =     448.2928 (a.u.)^3\n",
      "number of atoms/cell      =            4\n",
      "number of atomic types    =            1\n",
      "number of electrons       =        44.00\n",
      "number of Kohn-Sham states=           26\n",
      "kinetic-energy cutoff     =      40.0000  Ry\n",
      "charge density cutoff     =     160.0000  Ry\n",
      "convergence threshold     =      1.0E-08\n",
      "mixing beta               =       0.7000\n",
      "number of iterations used =            8  plain     mixing\n",
      "Exchange-correlation= PBE\n",
      "(   1   4   3   4   0   0   0)\n",
      "\n",
      "celldm(1)=   7.653391  celldm(2)=   0.000000  celldm(3)=   0.000000\n",
      "celldm(4)=   0.000000  celldm(5)=   0.000000  celldm(6)=   0.000000\n",
      "\n",
      "crystal axes: (cart. coord. in units of alat)\n",
      "a(1) = (   1.000000   0.000000   0.000000 )\n",
      "a(2) = (   0.000000   1.000000   0.000000 )\n",
      "a(3) = (   0.000000   0.000000   1.000000 )\n",
      "\n",
      "reciprocal axes: (cart. coord. in units 2 pi/alat)\n",
      "b(1) = (  1.000000  0.000000  0.000000 )\n",
      "b(2) = (  0.000000  1.000000  0.000000 )\n",
      "b(3) = (  0.000000  0.000000  1.000000 )\n",
      "\n",
      "\n",
      "PseudoPot. # 1 for Al read from file:\n",
      "./Al_ONCV_PBE-1.2.upf\n",
      "MD5 check sum: 2d9e7bc02555220d62fad08c3c4858e7\n",
      "Pseudo is Norm-conserving, Zval = 11.0\n",
      "Generated using ONCVPSP code by D. R. Hamann\n",
      "Using radial grid of  602 points,  4 beta functions with:\n",
      "l(1) =   0\n",
      "l(2) =   0\n",
      "l(3) =   1\n",
      "l(4) =   1\n",
      "\n",
      "atomic species   valence    mass     pseudopotential\n",
      "Al            11.00    26.98150     Al( 1.00)\n",
      "\n",
      "No symmetry found\n",
      "\n",
      "\n",
      "\n",
      "Cartesian axes\n",
      "\n",
      "site n.     atom                  positions (alat units)\n",
      "1           Al  tau(   1) = (   0.0493827   0.0000000   0.0000000  )\n",
      "2           Al  tau(   2) = (   0.5000000   0.5000000   0.0000000  )\n",
      "3           Al  tau(   3) = (   0.5000000   0.0000000   0.5000000  )\n",
      "4           Al  tau(   4) = (   0.0000000   0.5000000   0.5000000  )\n",
      "\n",
      "number of k points=     1  Gaussian smearing, width (Ry)=  0.0010\n",
      "cart. coord. in units 2pi/alat\n",
      "k(    1) = (   0.0000000   0.0000000   0.0000000), wk =   2.0000000\n",
      "\n",
      "Dense  grid:    15419 G-vectors     FFT dimensions: (  32,  32,  32)\n",
      "\n",
      "Estimated max dynamical RAM per process >      17.30 MB\n",
      "\n",
      "Initial potential from superposition of free atoms\n",
      "\n",
      "starting charge   43.67391, renormalised to   44.00000\n",
      "Starting wfcs are random\n",
      "\n",
      "total cpu time spent up to now is        0.1 secs\n",
      "\n",
      "Self-consistent Calculation\n",
      "\n",
      "iteration #  1     ecut=    40.00 Ry     beta= 0.70\n",
      "Davidson diagonalization with overlap\n",
      "ethr =  1.00E-02,  avg # of iterations =  6.0\n",
      "\n",
      "Threshold (ethr) on eigenvalues was too large:\n",
      "Diagonalizing with lowered threshold\n",
      "\n",
      "Davidson diagonalization with overlap\n",
      "ethr =  4.15E-04,  avg # of iterations =  6.0\n",
      "\n",
      "total cpu time spent up to now is        0.2 secs\n",
      "\n",
      "iteration #  2     ecut=    40.00 Ry     beta= 0.70\n",
      "Davidson diagonalization with overlap\n",
      "ethr =  4.18E-04,  avg # of iterations =  2.0\n",
      "\n",
      "iteration #  3     ecut=    40.00 Ry     beta= 0.70\n",
      "Davidson diagonalization with overlap\n",
      "ethr =  4.18E-04,  avg # of iterations =  2.0\n",
      "\n",
      "iteration #  4     ecut=    40.00 Ry     beta= 0.70\n",
      "Davidson diagonalization with overlap\n",
      "ethr =  3.78E-04,  avg # of iterations =  1.0\n",
      "\n",
      "iteration #  5     ecut=    40.00 Ry     beta= 0.70\n",
      "Davidson diagonalization with overlap\n",
      "ethr =  2.38E-04,  avg # of iterations =  2.0\n",
      "\n",
      "iteration #  6     ecut=    40.00 Ry     beta= 0.70\n",
      "Davidson diagonalization with overlap\n",
      "ethr =  2.38E-04,  avg # of iterations =  1.0\n",
      "\n",
      "iteration #  7     ecut=    40.00 Ry     beta= 0.70\n",
      "Davidson diagonalization with overlap\n",
      "ethr =  2.37E-04,  avg # of iterations =  1.0\n",
      "\n",
      "iteration #  8     ecut=    40.00 Ry     beta= 0.70\n",
      "Davidson diagonalization with overlap\n",
      "ethr =  1.90E-04,  avg # of iterations =  1.0\n",
      "\n",
      "iteration #  9     ecut=    40.00 Ry     beta= 0.70\n",
      "Davidson diagonalization with overlap\n",
      "ethr =  1.66E-04,  avg # of iterations =  1.0\n",
      "\n",
      "iteration # 10     ecut=    40.00 Ry     beta= 0.70\n",
      "Davidson diagonalization with overlap\n",
      "ethr =  1.59E-05,  avg # of iterations =  1.0\n",
      "\n",
      "iteration # 11     ecut=    40.00 Ry     beta= 0.70\n",
      "Davidson diagonalization with overlap\n",
      "ethr =  1.59E-05,  avg # of iterations =  1.0\n",
      "\n",
      "iteration # 12     ecut=    40.00 Ry     beta= 0.70\n",
      "Davidson diagonalization with overlap\n",
      "ethr =  1.59E-05,  avg # of iterations =  1.0\n",
      "\n",
      "iteration # 13     ecut=    40.00 Ry     beta= 0.70\n",
      "Davidson diagonalization with overlap\n",
      "ethr =  1.59E-05,  avg # of iterations =  1.0\n",
      "\n",
      "iteration # 14     ecut=    40.00 Ry     beta= 0.70\n",
      "Davidson diagonalization with overlap\n",
      "ethr =  1.59E-05,  avg # of iterations =  1.0\n",
      "\n",
      "iteration # 15     ecut=    40.00 Ry     beta= 0.70\n",
      "Davidson diagonalization with overlap\n",
      "ethr =  1.59E-05,  avg # of iterations =  1.0\n",
      "\n",
      "iteration # 16     ecut=    40.00 Ry     beta= 0.70\n",
      "Davidson diagonalization with overlap\n",
      "ethr =  1.59E-05,  avg # of iterations =  1.0\n",
      "\n",
      "iteration # 17     ecut=    40.00 Ry     beta= 0.70\n",
      "Davidson diagonalization with overlap\n",
      "ethr =  1.59E-05,  avg # of iterations =  1.0\n",
      "\n",
      "iteration # 18     ecut=    40.00 Ry     beta= 0.70\n",
      "Davidson diagonalization with overlap\n",
      "ethr =  1.59E-05,  avg # of iterations =  1.0\n",
      "\n",
      "iteration # 19     ecut=    40.00 Ry     beta= 0.70\n",
      "Davidson diagonalization with overlap\n",
      "ethr =  8.60E-06,  avg # of iterations =  1.0\n",
      "\n",
      "iteration # 20     ecut=    40.00 Ry     beta= 0.70\n",
      "Davidson diagonalization with overlap\n",
      "ethr =  3.42E-06,  avg # of iterations =  1.0\n",
      "\n",
      "iteration # 21     ecut=    40.00 Ry     beta= 0.70\n",
      "Davidson diagonalization with overlap\n",
      "ethr =  3.31E-06,  avg # of iterations =  1.0\n",
      "\n",
      "iteration # 22     ecut=    40.00 Ry     beta= 0.70\n",
      "Davidson diagonalization with overlap\n",
      "ethr =  2.81E-06,  avg # of iterations =  1.0\n",
      "\n",
      "iteration # 23     ecut=    40.00 Ry     beta= 0.70\n",
      "Davidson diagonalization with overlap\n",
      "ethr =  2.03E-06,  avg # of iterations =  1.0\n",
      "\n",
      "iteration # 24     ecut=    40.00 Ry     beta= 0.70\n",
      "Davidson diagonalization with overlap\n",
      "ethr =  8.65E-07,  avg # of iterations =  1.0\n",
      "\n",
      "iteration # 25     ecut=    40.00 Ry     beta= 0.70\n",
      "Davidson diagonalization with overlap\n",
      "ethr =  1.24E-07,  avg # of iterations =  1.0\n",
      "\n",
      "iteration # 26     ecut=    40.00 Ry     beta= 0.70\n",
      "Davidson diagonalization with overlap\n",
      "ethr =  5.05E-10,  avg # of iterations =  1.0\n",
      "\n",
      "iteration # 27     ecut=    40.00 Ry     beta= 0.70\n",
      "Davidson diagonalization with overlap\n",
      "ethr =  5.05E-10,  avg # of iterations =  1.0\n",
      "\n",
      "k = 0.0000 0.0000 0.0000 (  1935 PWs)   bands (ev):\n",
      "\n",
      "-92.6272 -92.5899 -92.4908 -92.4831 -54.2459 -54.1827 -54.1827 -54.1802\n",
      "-54.1607 -54.1562 -54.1093 -54.1093 -54.0999 -54.0999 -54.0870 -54.0870\n",
      "-0.2340   7.9567   7.9641   7.9641   9.2793   9.2918   9.2929  15.9912\n",
      "15.9913  16.1926\n",
      "\n",
      "the Fermi energy is     9.2932 ev\n",
      "\n",
      "Energies determined by pw2casino tool\n",
      "-------------------------------------\n",
      "Kinetic energy      118.316482492179       au  =     236.632964984358       Ry\n",
      "Local energy       -227.191531582778       au  =    -454.383063165556       Ry\n",
      "Non-Local energy   -60.8453963794796       au  =    -121.690792758959       Ry\n",
      "Ewald energy       -144.731958633721       au  =    -289.463917267442       Ry\n",
      "xc contribution    -31.3034535806879       au  =    -62.6069071613758       Ry\n",
      "hartree energy      69.2891291820012       au  =     138.578258364002       Ry\n",
      "Smearing (-TS)    -6.593337082292448E-004  au  =   -1.318667416458490E-003  Ry\n",
      "Total energy       -276.467382195985       au  =    -552.934764391970       Ry\n",
      "Total energy0      -276.467387836194       au  =    -552.934775672388       Ry\n",
      "External energy0   0.000000000000000E+000  au  =    0.000000000000000E+000  Ry\n",
      "\n",
      "\n",
      "Forces acting on atoms (cartesian axes, Ry/au):\n",
      "\n",
      "atom    1 type  1   force =    -0.00831979   -0.00000010   -0.00000022\n",
      "atom    2 type  1   force =     0.00783904   -0.00000012    0.00000005\n",
      "atom    3 type  1   force =     0.00781128    0.00000023   -0.00000003\n",
      "atom    4 type  1   force =    -0.00733053   -0.00000001    0.00000020\n",
      "\n",
      "Total force =     0.015666     Total SCF correction =     0.000000\n",
      "\n",
      "Writing output data file ./al.save/\n",
      "\n",
      "Not output data\n"
     ]
    }
   ],
   "source": [
    "with open('qepy.out', 'r') as fw:\n",
    "    for line in fw: print(line.strip())"
   ]
  }
 ],
 "metadata": {
  "kernelspec": {
   "display_name": "Python 3",
   "language": "python",
   "name": "python3"
  },
  "language_info": {
   "codemirror_mode": {
    "name": "ipython",
    "version": 3
   },
   "file_extension": ".py",
   "mimetype": "text/x-python",
   "name": "python",
   "nbconvert_exporter": "python",
   "pygments_lexer": "ipython3",
   "version": "3.8.10"
  },
  "varInspector": {
   "cols": {
    "lenName": 16,
    "lenType": 16,
    "lenVar": 40
   },
   "kernels_config": {
    "python": {
     "delete_cmd_postfix": "",
     "delete_cmd_prefix": "del ",
     "library": "var_list.py",
     "varRefreshCmd": "print(var_dic_list())"
    },
    "r": {
     "delete_cmd_postfix": ") ",
     "delete_cmd_prefix": "rm(",
     "library": "var_list.r",
     "varRefreshCmd": "cat(var_dic_list()) "
    }
   },
   "types_to_exclude": [
    "module",
    "function",
    "builtin_function_or_method",
    "instance",
    "_Feature"
   ],
   "window_display": false
  }
 },
 "nbformat": 4,
 "nbformat_minor": 4
}
